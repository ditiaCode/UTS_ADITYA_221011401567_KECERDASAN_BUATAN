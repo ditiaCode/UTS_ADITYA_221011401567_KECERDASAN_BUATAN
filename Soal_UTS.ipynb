{
 "cells": [
  {
   "cell_type": "markdown",
   "metadata": {
    "id": "QiGcp6j9_QSz"
   },
   "source": [
    "## Soal UTS"
   ]
  },
  {
   "cell_type": "code",
   "execution_count": 37,
   "metadata": {
    "id": "RWdhQPRt8yrd"
   },
   "outputs": [],
   "source": [
    "\n",
    "# Data\n",
    "\n",
    "company_detail_list = [\n",
    "      {\n",
    "          'name': 'Company 1',\n",
    "          'domain': 'Retail',\n",
    "          'country': 'United States'\n",
    "      },\n",
    "      {\n",
    "          'name': 'Company 2',\n",
    "          'domain': 'Technology',\n",
    "          'country': 'United Kingdom'\n",
    "      },\n",
    "      {\n",
    "          'name': 'Company 3',\n",
    "          'domain': 'Healthcare',\n",
    "          'country': 'United States'\n",
    "      }\n",
    "  ]\n",
    "\n",
    "employee_detail_list = [\n",
    "     {\n",
    "          'name': 'EMP-0001',\n",
    "          'first_name': 'John',\n",
    "          'last_name': 'Doe',\n",
    "          'full_name': 'John Doe',\n",
    "          'company': 'Company 1',\n",
    "          'nationality': 'Australia'\n",
    "      },\n",
    "      {\n",
    "          'name': 'EMP-0002',\n",
    "          'first_name': 'Tom',\n",
    "          'last_name': 'Smith',\n",
    "          'full_name': 'Tom Smith',\n",
    "          'company': 'Company 2',\n",
    "          'nationality': 'United States'\n",
    "      },\n",
    "      {\n",
    "          'name': 'EMP-0003',\n",
    "          'first_name': 'Andrew',\n",
    "          'last_name': 'Sebastian',\n",
    "          'full_name': 'Andrew Sebastian',\n",
    "          'company': 'Company 3',\n",
    "          'nationality': 'United States'\n",
    "      },\n",
    "      {\n",
    "          'name': 'EMP-0005',\n",
    "          'first_name': 'Ying Han',\n",
    "          'last_name': 'Tan',\n",
    "          'full_name': 'Ying Han Tan',\n",
    "          'company': 'Company 1',\n",
    "          'nationality': 'Australia'\n",
    "      },\n",
    "      {\n",
    "          'name': 'EMP-0015',\n",
    "          'first_name': 'Kenneth',\n",
    "          'last_name': 'Ng',\n",
    "          'full_name': 'Kenneth Ng',\n",
    "          'company': 'Company 3',\n",
    "          'nationality': 'United States'\n",
    "      },\n",
    "      {\n",
    "          'name': 'EMP-0018',\n",
    "          'first_name': 'Rubby',\n",
    "          'last_name': 'Lee',\n",
    "          'full_name': 'Rubby Lee',\n",
    "          'company': 'Company 2',\n",
    "          'nationality': 'Hong Kong'\n",
    "      },\n",
    "     {\n",
    "          'name': 'EMP-0017',\n",
    "          'first_name': 'Robert',\n",
    "          'last_name': 'White',\n",
    "          'full_name': 'Robert White',\n",
    "          'company': 'Company 1',\n",
    "          'nationality': 'United Kingdom'\n",
    "      }\n",
    "  ]\n",
    "\n"
   ]
  },
  {
   "cell_type": "markdown",
   "metadata": {
    "id": "hxAkwucFjatO"
   },
   "source": [
    "The next few cells will show some examples on how to interact with our functions. Note that some of these function calls could be useful for you in completing the tasks below. "
   ]
  },
  {
   "cell_type": "markdown",
   "metadata": {
    "id": "097eOYQ-U5V2"
   },
   "source": [
    "## Task 1\n",
    "\n",
    "Please get the list of all Companies and sort by **Company Name** in reverse order.\n",
    "\n",
    "Expected result:\n",
    "\n",
    "\n",
    "```json\n",
    "[{\n",
    "    \"name\": \"Company 3\"\n",
    "}, {\n",
    "    \"name\": \"Company 2\"\n",
    "}, {\n",
    "    \"name\": \"Company 1\"\n",
    "}]\n",
    "```\n",
    "\n"
   ]
  },
  {
   "cell_type": "code",
   "execution_count": 38,
   "metadata": {
    "scrolled": true
   },
   "outputs": [
    {
     "name": "stdout",
     "output_type": "stream",
     "text": [
      "Company 3\n",
      "Company 2\n",
      "Company 1\n"
     ]
    }
   ],
   "source": [
    "## Jawaban Soal 1\n",
    "\n",
    "tampil_name = sorted(company_detail_list, key=lambda x: x['name'], reverse=True)\n",
    "\n",
    "for company in tampil_name:\n",
    "    print(company['name'])\n"
   ]
  },
  {
   "cell_type": "markdown",
   "metadata": {
    "id": "sFbEZt5JoxMJ"
   },
   "source": [
    "## Soal 2\n",
    "\n",
    "Please print all Domain value in every company (use print statement).\n",
    "\n",
    "Expected return:\n",
    "\n",
    "```\n",
    "    Company 1: Retail (United States)\n",
    "    Company 2: Technology (United Kingdom)\n",
    "    Company 3: Healthcare (United States)\n",
    "```\n",
    "\n",
    "\n"
   ]
  },
  {
   "cell_type": "code",
   "execution_count": 39,
   "metadata": {},
   "outputs": [
    {
     "name": "stdout",
     "output_type": "stream",
     "text": [
      "Company 1: Retail (United States)\n",
      "Company 2: Technology (United Kingdom)\n",
      "Company 3: Healthcare (United States)\n"
     ]
    }
   ],
   "source": [
    "## jawaban soal 2\n",
    "for company in company_detail_list:\n",
    "    print(f\"{company['name']}: {company['domain']} ({company['country']})\")"
   ]
  },
  {
   "cell_type": "markdown",
   "metadata": {
    "id": "d617U0r8wvOd"
   },
   "source": [
    "## Task 3\n",
    "\n",
    "List all Employees work By company domain.\n",
    "\n",
    "Expected return:\n",
    "\n",
    "```json\n",
    "{\n",
    "    \"Retail\": [\n",
    "         \"John Doe\",\n",
    "         \"Robert White\",\n",
    "         \"Ying Han Tan\"\n",
    "     ],\n",
    "    \"Technology\":[\n",
    "          \"Tom Smith\",\n",
    "          \"Rubby Lee\",\n",
    "     ],\n",
    "    \"Healthcare\": [\n",
    "         \"Kenneth Ng\",\n",
    "         \"Andrew Sebastian\"\n",
    "     ],\n",
    "}\n",
    "```\n",
    "\n"
   ]
  },
  {
   "cell_type": "code",
   "execution_count": 40,
   "metadata": {},
   "outputs": [
    {
     "name": "stdout",
     "output_type": "stream",
     "text": [
      "{'Retail': ['John Doe', 'Ying Han Tan', 'Robert White'], 'Technology': ['Tom Smith', 'Rubby Lee'], 'Healthcare': ['Andrew Sebastian', 'Kenneth Ng']}\n"
     ]
    }
   ],
   "source": [
    "## jawaban soal 3\n",
    "\n",
    "def list_employees(employees, companies):\n",
    "    company_map = {company['name']: company['domain'] for company in companies}\n",
    "    \n",
    "    employee_map = {}\n",
    "\n",
    "    for employee in employees:\n",
    "        company = employee['company']\n",
    "        domain = company_map.get(company)\n",
    "        if domain:\n",
    "            if domain not in employee_map:\n",
    "                employee_map[domain] = []\n",
    "            employee_map[domain].append(employee['full_name'])\n",
    "\n",
    "    return employee_map\n",
    "\n",
    "hasil = list_employees(employee_detail_list, company_detail_list)\n",
    "print(hasil)"
   ]
  },
  {
   "cell_type": "markdown",
   "metadata": {
    "id": "-a7IODNT3w0F"
   },
   "source": [
    "## Task 4\n",
    "\n",
    "Create a function that return employees with it's company country.\n",
    "\n",
    "Expected return:\n",
    "\n",
    "\n",
    "```json\n",
    "[{\n",
    "    \"full_name\": \"John Doe\",\n",
    "    \"company\": \"Company 1\",\n",
    "    \"country\": \"United States\"\n",
    "}, {\n",
    "    \"full_name\": \"Tom Smith\",\n",
    "    \"company\": \"Company 2\",\n",
    "    \"country\": \"United Kingdom\"\n",
    "}, {\n",
    "    \"full_name\": \"Andrew Sebastian\",\n",
    "    \"company\": \"Company 3\",\n",
    "    \"country\": \"United Kingdom\"\n",
    "},  {\n",
    "    \"full_name\": \"Ying Han Tan\",\n",
    "    \"company\": \"Company 1\",\n",
    "    \"country\": \"United States\"\n",
    "},  {\n",
    "    \"full_name\": \"Kenneth Ng\",\n",
    "    \"company\": \"Company 3\",\n",
    "    \"country\": \"United States\"\n",
    "},  {\n",
    "    \"full_name\": \"Rubby Lee\",\n",
    "    \"company\": \"Company 2\",\n",
    "    \"country\": \"United Kingdom\"\n",
    "},   {\n",
    "    \"full_name\": \"Robert White\",\n",
    "    \"company\": \"Company 1\",\n",
    "    \"country\": \"United States\"\n",
    "},\n",
    "    \n",
    "]\n",
    "```\n",
    "\n"
   ]
  },
  {
   "cell_type": "code",
   "execution_count": 52,
   "metadata": {
    "scrolled": true
   },
   "outputs": [
    {
     "name": "stdout",
     "output_type": "stream",
     "text": [
      "[{'full_name': 'John Doe', 'company': 'Company 1', 'country': 'United States'}, {'full_name': 'Tom Smith', 'company': 'Company 2', 'country': 'United Kingdom'}, {'full_name': 'Andrew Sebastian', 'company': 'Company 3', 'country': 'United States'}, {'full_name': 'Ying Han Tan', 'company': 'Company 1', 'country': 'United States'}, {'full_name': 'Kenneth Ng', 'company': 'Company 3', 'country': 'United States'}, {'full_name': 'Rubby Lee', 'company': 'Company 2', 'country': 'United Kingdom'}, {'full_name': 'Robert White', 'company': 'Company 1', 'country': 'United States'}]\n"
     ]
    }
   ],
   "source": [
    "## jawaban soal4\n",
    "\n",
    "def get_employees(employees, companies):\n",
    "    country_list = []\n",
    "    \n",
    "    # Create a mapping of company names to their countries\n",
    "    country_map = {company['name']: company['country'] for company in companies}\n",
    "    \n",
    "    # Populate the list with employee details\n",
    "    for employee in employees:\n",
    "        company_name = employee['company']\n",
    "        country = country_map.get(company_name)\n",
    "        if country:\n",
    "            country_list.append({\n",
    "                \"full_name\": employee['full_name'],\n",
    "                \"company\": company_name,\n",
    "                \"country\": country\n",
    "            })\n",
    "    \n",
    "    return country_list\n",
    "\n",
    "# Call the function and print the result\n",
    "hasil = get_employees(employee_detail_list, company_detail_list)\n",
    "print(hasil)"
   ]
  },
  {
   "cell_type": "markdown",
   "metadata": {
    "id": "TXhXCiOrFcev"
   },
   "source": [
    "## Task 5\n",
    "\n",
    "Create a function that return companies with a number of employees nationality that are working in the company.\n",
    "\n",
    "Expected return:\n",
    "\n",
    "\n",
    "```json\n",
    "[{\n",
    "    \"company\": \"Company 1\",\n",
    "    \"employee_nationality\": {\n",
    "        \"Australia\": 2,\n",
    "        \"Hong Kong\": 1\n",
    "    }\n",
    "}, {\n",
    "    \"company\": \"Company 2\",\n",
    "    \"employee_nationality\": {\n",
    "        \"Hong Kong\": 1,\n",
    "        \"United States\": 1\n",
    "    }\n",
    "}, {\n",
    "    \"company\": \"Company 3\",\n",
    "    \"employee_nationality\": {\n",
    "        \"United States\": 2\n",
    "    }\n",
    "}]\n",
    "```\n",
    "\n"
   ]
  },
  {
   "cell_type": "code",
   "execution_count": 53,
   "metadata": {},
   "outputs": [
    {
     "name": "stdout",
     "output_type": "stream",
     "text": [
      "[{'company': 'Company 1', 'employee_nationality': {'Australia': 2, 'United Kingdom': 1}}, {'company': 'Company 2', 'employee_nationality': {'United States': 1, 'Hong Kong': 1}}, {'company': 'Company 3', 'employee_nationality': {'United States': 2}}]\n"
     ]
    }
   ],
   "source": [
    "def get_companies(employees, companies):\n",
    "    company_list = []\n",
    "\n",
    "    for company in companies:\n",
    "        company_name = company['name']\n",
    "        nationality_count = {}\n",
    "\n",
    "        for employee in employees:\n",
    "            if employee['company'] == company_name:\n",
    "                nationality_count[employee['nationality']] = nationality_count.get(employee['nationality'], 0) + 1\n",
    "\n",
    "        company_list.append({\n",
    "            \"company\": company_name,\n",
    "            \"employee_nationality\": nationality_count\n",
    "        })\n",
    "\n",
    "    return company_list\n",
    "\n",
    "\n",
    "result = get_companies(employee_detail_list, company_detail_list)\n",
    "print(hasil)"
   ]
  }
 ],
 "metadata": {
  "colab": {
   "collapsed_sections": [],
   "name": "AT Backend Test.ipynb",
   "provenance": [
    {
     "file_id": "1vK5VvfGC3SQ_onwiFXNdtvWQRvHAbeZa",
     "timestamp": 1650627195682
    },
    {
     "file_id": "1hHOgmPPwUDtWvGuaz2tuclaa6MJYUmIm",
     "timestamp": 1650504460415
    },
    {
     "file_id": "1HSO3CG0-7R5jptBBEx-CDHIDRjXgXmrl",
     "timestamp": 1650255042674
    }
   ]
  },
  "kernelspec": {
   "display_name": "Python 3 (ipykernel)",
   "language": "python",
   "name": "python3"
  },
  "language_info": {
   "codemirror_mode": {
    "name": "ipython",
    "version": 3
   },
   "file_extension": ".py",
   "mimetype": "text/x-python",
   "name": "python",
   "nbconvert_exporter": "python",
   "pygments_lexer": "ipython3",
   "version": "3.8.10"
  }
 },
 "nbformat": 4,
 "nbformat_minor": 4
}
